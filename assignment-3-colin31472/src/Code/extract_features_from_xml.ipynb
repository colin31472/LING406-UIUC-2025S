{
 "cells": [
  {
   "cell_type": "code",
   "execution_count": null,
   "metadata": {},
   "outputs": [
    {
     "name": "stdout",
     "output_type": "stream",
     "text": [
      "Number of sentences in train set: 51397\n",
      "Number of sentences in validation set: 17133\n",
      "\n",
      "Example of first sentence (orth, ctag) pairs:\n",
      "('Zabiję', 'fin:sg:pri:perf')\n",
      "('cię', 'ppron12:sg:acc:m1:sec:nakc')\n",
      "(',', 'interp')\n",
      "('jeśli', 'comp')\n",
      "('umrzesz', 'fin:sg:sec:perf')\n",
      "('!', 'interp')\n",
      "('\"', 'interp')\n"
     ]
    }
   ],
   "source": [
    "# =============================================\n",
    "# extract_features_from_xml.ipynb - Youngjun Yu\n",
    "# =============================================\n",
    "\n",
    "\"\"\"\n",
    "Usage:\n",
    "    - Run this notebook to see how XML data is read and stored.\n",
    "    - The function parse(file_path) returns a list of sentences,\n",
    "      where each sentence is a list of (orth, ctag) pairs.\n",
    "\"\"\"\n",
    "\n",
    "import gzip\n",
    "import xml.etree.ElementTree as ET\n",
    "\n",
    "def parse(file_path):\n",
    "    \"\"\"\n",
    "    Parses an XCES XML file (gzipped) and extracts sentences.\n",
    "    \n",
    "    Args:\n",
    "        file_path (str): Path to the .xml.gz file (relative path).\n",
    "        \n",
    "    Returns:\n",
    "        list of list of (str, str): A list of sentences; \n",
    "                                    each sentence is a list of (orth, ctag) tuples.\n",
    "    \"\"\"\n",
    "    sentences = []\n",
    "    with gzip.open(file_path, 'rt', encoding='utf-8') as f:\n",
    "        tree = ET.parse(f)\n",
    "        root = tree.getroot()\n",
    "        \n",
    "        for chunk in root.findall('.//chunk'):\n",
    "            sentence_tokens = []\n",
    "            for tok in chunk.findall('tok'):\n",
    "                orth_elem = tok.find('orth')\n",
    "                lex_elem = tok.find('lex')\n",
    "                \n",
    "                if orth_elem is not None and lex_elem is not None:\n",
    "                    ctag_elem = lex_elem.find('ctag')\n",
    "                    if ctag_elem is not None:\n",
    "                        orth = orth_elem.text.strip()\n",
    "                        pos_tag = ctag_elem.text.strip()\n",
    "                        sentence_tokens.append((orth, pos_tag))            \n",
    "            if len(sentence_tokens) > 0:\n",
    "                sentences.append(sentence_tokens)                \n",
    "    return sentences\n",
    "\n",
    "if __name__ == \"__main__\":\n",
    "    train_file = \"../Data/train.xml.gz\"\n",
    "    validate_file = \"../Data/validate.xml.gz\"\n",
    "\n",
    "    train_sentences = parse(train_file)\n",
    "    print(f\"Number of sentences in train set: {len(train_sentences)}\")\n",
    "\n",
    "    validate_sentences = parse(validate_file)\n",
    "    print(f\"Number of sentences in validation set: {len(validate_sentences)}\")\n",
    "\n",
    "    # Print first sentence from training data as an example\n",
    "    if train_sentences:\n",
    "        print(\"\\nExample of first sentence (orth, ctag) pairs:\")\n",
    "        for token_pos in train_sentences[0]:\n",
    "            print(token_pos)\n"
   ]
  }
 ],
 "metadata": {
  "kernelspec": {
   "display_name": "base",
   "language": "python",
   "name": "python3"
  },
  "language_info": {
   "codemirror_mode": {
    "name": "ipython",
    "version": 3
   },
   "file_extension": ".py",
   "mimetype": "text/x-python",
   "name": "python",
   "nbconvert_exporter": "python",
   "pygments_lexer": "ipython3",
   "version": "3.9.7"
  }
 },
 "nbformat": 4,
 "nbformat_minor": 2
}
